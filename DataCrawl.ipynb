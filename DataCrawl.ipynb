Part(B)

import requests
from bs4 import BeautifulSoup 
import matplotlib.pyplot as plt
# use requests package to access the web page
url='https://www.treasury.gov/resource-center/data-chart-center/interest-rates/Pages/TextView.aspx?data=yieldYear&year=2021'
page = requests.get(url)
​
# use Beautiful Soup to parse the html from the web page
soup = BeautifulSoup(page.content)
# get all the tables on the page
tables = soup.find_all("table")
​
# locate the <table> element in the page corresponding to the Treasury yields
ratesTable = tables[1]
print(ratesTable.prettify())
<table class="t-chart" xmlns:a="http://www.w3.org/2005/Atom" xmlns:d="http://schemas.microsoft.com/ado/2007/08/dataservices" xmlns:fmt="urn:treasury-xslt-fmt" xmlns:m="http://schemas.microsoft.com/ado/2007/08/dataservices/metadata" xmlns:msxml="urn:schemas-microsoft-com:xslt">
 <tr>
  <th scope="col">
   Date
  </th>
  <th scope="col">
   1 mo
  </th>
  <th scope="col">
   2 mo
  </th>
  <th scope="col">
   3 mo
  </th>
  <th scope="col">
   6 mo
  </th>
  <th scope="col">
   1 yr
  </th>
  <th scope="col">
   2 yr
  </th>
  <th scope="col">
   3 yr
  </th>
  <th scope="col">
   5 yr
  </th>
  <th scope="col">
   7 yr
  </th>
  <th scope="col">
   10 yr
  </th>
  <th scope="col">
   20 yr
  </th>
  <th scope="col">
   30 yr
  </th>
 </tr>
 <tr class="oddrow">
  <td class="text_view_data" scope="row">
   01/04/21
  </td>
  <td class="text_view_data">
   0.09
  </td>
  <td class="text_view_data">
   0.09
  </td>
  <td class="text_view_data">
   0.09
  </td>
  <td class="text_view_data">
   0.09
  </td>
  <td class="text_view_data">
   0.10
  </td>
  <td class="text_view_data">
   0.11
  </td>
  <td class="text_view_data">
   0.16
  </td>
  <td class="text_view_data">
   0.36
  </td>
  <td class="text_view_data">
   0.64
  </td>
  <td class="text_view_data">
   0.93
  </td>
  <td class="text_view_data">
   1.46
  </td>
  <td class="text_view_data">
   1.66
  </td>
 </tr>
 <tr class="evenrow">
  <td class="text_view_data" scope="row">
   01/05/21
  </td>
  <td class="text_view_data">
   0.08
  </td>
  <td class="text_view_data">
   0.09
  </td>
  <td class="text_view_data">
   0.09
  </td>
  <td class="text_view_data">
   0.09
  </td>
  <td class="text_view_data">
   0.10
  </td>
  <td class="text_view_data">
   0.13
  </td>
  <td class="text_view_data">
   0.17
  </td>
  <td class="text_view_data">
   0.38
  </td>
  <td class="text_view_data">
   0.66
  </td>
  <td class="text_view_data">
   0.96
  </td>
  <td class="text_view_data">
   1.49
  </td>
  <td class="text_view_data">
   1.70
  </td>
 </tr>
 <tr class="oddrow">
  <td class="text_view_data" scope="row">
   01/06/21
  </td>
  <td class="text_view_data">
   0.09
  </td>
  <td class="text_view_data">
   0.09
  </td>
  <td class="text_view_data">
   0.09
  </td>
  <td class="text_view_data">
   0.09
  </td>
  <td class="text_view_data">
   0.11
  </td>
  <td class="text_view_data">
   0.14
  </td>
  <td class="text_view_data">
   0.20
  </td>
  <td class="text_view_data">
   0.43
  </td>
  <td class="text_view_data">
   0.74
  </td>
  <td class="text_view_data">
   1.04
  </td>
  <td class="text_view_data">
   1.60
  </td>
  <td class="text_view_data">
   1.81
  </td>
 </tr>
 <tr class="evenrow">
  <td class="text_view_data" scope="row">
   01/07/21
  </td>
  <td class="text_view_data">
   0.09
  </td>
  <td class="text_view_data">
   0.09
  </td>
  <td class="text_view_data">
   0.09
  </td>
  <td class="text_view_data">
   0.09
  </td>
  <td class="text_view_data">
   0.11
  </td>
  <td class="text_view_data">
   0.14
  </td>
  <td class="text_view_data">
   0.22
  </td>
  <td class="text_view_data">
   0.46
  </td>
  <td class="text_view_data">
   0.78
  </td>
  <td class="text_view_data">
   1.08
  </td>
  <td class="text_view_data">
   1.64
  </td>
  <td class="text_view_data">
   1.85
  </td>
 </tr>
 <tr class="oddrow">
  <td class="text_view_data" scope="row">
   01/08/21
  </td>
  <td class="text_view_data">
   0.08
  </td>
  <td class="text_view_data">
   0.08
  </td>
  <td class="text_view_data">
   0.08
  </td>
  <td class="text_view_data">
   0.09
  </td>
  <td class="text_view_data">
   0.10
  </td>
  <td class="text_view_data">
   0.14
  </td>
  <td class="text_view_data">
   0.24
  </td>
  <td class="text_view_data">
   0.49
  </td>
  <td class="text_view_data">
   0.81
  </td>
  <td class="text_view_data">
   1.13
  </td>
  <td class="text_view_data">
   1.67
  </td>
  <td class="text_view_data">
   1.87
  </td>
 </tr>
 <tr class="evenrow">
  <td class="text_view_data" scope="row">
   01/11/21
  </td>
  <td class="text_view_data">
   0.09
  </td>
  <td class="text_view_data">
   0.08
  </td>
  <td class="text_view_data">
   0.08
  </td>
  <td class="text_view_data">
   0.10
  </td>
  <td class="text_view_data">
   0.10
  </td>
  <td class="text_view_data">
   0.14
  </td>
  <td class="text_view_data">
   0.22
  </td>
  <td class="text_view_data">
   0.50
  </td>
  <td class="text_view_data">
   0.84
  </td>
  <td class="text_view_data">
   1.15
  </td>
  <td class="text_view_data">
   1.68
  </td>
  <td class="text_view_data">
   1.88
  </td>
 </tr>
 <tr class="oddrow">
  <td class="text_view_data" scope="row">
   01/12/21
  </td>
  <td class="text_view_data">
   0.09
  </td>
  <td class="text_view_data">
   0.08
  </td>
  <td class="text_view_data">
   0.09
  </td>
  <td class="text_view_data">
   0.09
  </td>
  <td class="text_view_data">
   0.11
  </td>
  <td class="text_view_data">
   0.14
  </td>
  <td class="text_view_data">
   0.23
  </td>
  <td class="text_view_data">
   0.50
  </td>
  <td class="text_view_data">
   0.83
  </td>
  <td class="text_view_data">
   1.15
  </td>
  <td class="text_view_data">
   1.68
  </td>
  <td class="text_view_data">
   1.88
  </td>
 </tr>
 <tr class="evenrow">
  <td class="text_view_data" scope="row">
   01/13/21
  </td>
  <td class="text_view_data">
   0.09
  </td>
  <td class="text_view_data">
   0.08
  </td>
  <td class="text_view_data">
   0.09
  </td>
  <td class="text_view_data">
   0.10
  </td>
  <td class="text_view_data">
   0.12
  </td>
  <td class="text_view_data">
   0.14
  </td>
  <td class="text_view_data">
   0.22
  </td>
  <td class="text_view_data">
   0.48
  </td>
  <td class="text_view_data">
   0.80
  </td>
  <td class="text_view_data">
   1.10
  </td>
  <td class="text_view_data">
   1.63
  </td>
  <td class="text_view_data">
   1.82
  </td>
 </tr>
 <tr class="oddrow">
  <td class="text_view_data" scope="row">
   01/14/21
  </td>
  <td class="text_view_data">
   0.09
  </td>
  <td class="text_view_data">
   0.09
  </td>
  <td class="text_view_data">
   0.09
  </td>
  <td class="text_view_data">
   0.09
  </td>
  <td class="text_view_data">
   0.10
  </td>
  <td class="text_view_data">
   0.16
  </td>
  <td class="text_view_data">
   0.23
  </td>
  <td class="text_view_data">
   0.49
  </td>
  <td class="text_view_data">
   0.82
  </td>
  <td class="text_view_data">
   1.15
  </td>
  <td class="text_view_data">
   1.69
  </td>
  <td class="text_view_data">
   1.88
  </td>
 </tr>
 <tr class="evenrow">
  <td class="text_view_data" scope="row">
   01/15/21
  </td>
  <td class="text_view_data">
   0.08
  </td>
  <td class="text_view_data">
   0.09
  </td>
  <td class="text_view_data">
   0.09
  </td>
  <td class="text_view_data">
   0.10
  </td>
  <td class="text_view_data">
   0.10
  </td>
  <td class="text_view_data">
   0.13
  </td>
  <td class="text_view_data">
   0.20
  </td>
  <td class="text_view_data">
   0.46
  </td>
  <td class="text_view_data">
   0.78
  </td>
  <td class="text_view_data">
   1.11
  </td>
  <td class="text_view_data">
   1.66
  </td>
  <td class="text_view_data">
   1.85
  </td>
 </tr>
 <tr class="oddrow">
  <td class="text_view_data" scope="row">
   01/19/21
  </td>
  <td class="text_view_data">
   0.07
  </td>
  <td class="text_view_data">
   0.09
  </td>
  <td class="text_view_data">
   0.09
  </td>
  <td class="text_view_data">
   0.11
  </td>
  <td class="text_view_data">
   0.10
  </td>
  <td class="text_view_data">
   0.14
  </td>
  <td class="text_view_data">
   0.21
  </td>
  <td class="text_view_data">
   0.45
  </td>
  <td class="text_view_data">
   0.78
  </td>
  <td class="text_view_data">
   1.10
  </td>
  <td class="text_view_data">
   1.65
  </td>
  <td class="text_view_data">
   1.84
  </td>
 </tr>
 <tr class="evenrow">
  <td class="text_view_data" scope="row">
   01/20/21
  </td>
  <td class="text_view_data">
   0.08
  </td>
  <td class="text_view_data">
   0.08
  </td>
  <td class="text_view_data">
   0.08
  </td>
  <td class="text_view_data">
   0.10
  </td>
  <td class="text_view_data">
   0.10
  </td>
  <td class="text_view_data">
   0.13
  </td>
  <td class="text_view_data">
   0.19
  </td>
  <td class="text_view_data">
   0.45
  </td>
  <td class="text_view_data">
   0.78
  </td>
  <td class="text_view_data">
   1.10
  </td>
  <td class="text_view_data">
   1.65
  </td>
  <td class="text_view_data">
   1.84
  </td>
 </tr>
 <tr class="oddrow">
  <td class="text_view_data" scope="row">
   01/21/21
  </td>
  <td class="text_view_data">
   0.07
  </td>
  <td class="text_view_data">
   0.09
  </td>
  <td class="text_view_data">
   0.09
  </td>
  <td class="text_view_data">
   0.09
  </td>
  <td class="text_view_data">
   0.10
  </td>
  <td class="text_view_data">
   0.13
  </td>
  <td class="text_view_data">
   0.19
  </td>
  <td class="text_view_data">
   0.45
  </td>
  <td class="text_view_data">
   0.79
  </td>
  <td class="text_view_data">
   1.12
  </td>
  <td class="text_view_data">
   1.68
  </td>
  <td class="text_view_data">
   1.87
  </td>
 </tr>
 <tr class="evenrow">
  <td class="text_view_data" scope="row">
   01/22/21
  </td>
  <td class="text_view_data">
   0.07
  </td>
  <td class="text_view_data">
   0.08
  </td>
  <td class="text_view_data">
   0.08
  </td>
  <td class="text_view_data">
   0.10
  </td>
  <td class="text_view_data">
   0.10
  </td>
  <td class="text_view_data">
   0.13
  </td>
  <td class="text_view_data">
   0.19
  </td>
  <td class="text_view_data">
   0.44
  </td>
  <td class="text_view_data">
   0.77
  </td>
  <td class="text_view_data">
   1.10
  </td>
  <td class="text_view_data">
   1.66
  </td>
  <td class="text_view_data">
   1.85
  </td>
 </tr>
 <tr class="oddrow">
  <td class="text_view_data" scope="row">
   01/25/21
  </td>
  <td class="text_view_data">
   0.07
  </td>
  <td class="text_view_data">
   0.08
  </td>
  <td class="text_view_data">
   0.09
  </td>
  <td class="text_view_data">
   0.09
  </td>
  <td class="text_view_data">
   0.10
  </td>
  <td class="text_view_data">
   0.13
  </td>
  <td class="text_view_data">
   0.17
  </td>
  <td class="text_view_data">
   0.42
  </td>
  <td class="text_view_data">
   0.73
  </td>
  <td class="text_view_data">
   1.05
  </td>
  <td class="text_view_data">
   1.61
  </td>
  <td class="text_view_data">
   1.80
  </td>
 </tr>
 <tr class="evenrow">
  <td class="text_view_data" scope="row">
   01/26/21
  </td>
  <td class="text_view_data">
   0.05
  </td>
  <td class="text_view_data">
   0.07
  </td>
  <td class="text_view_data">
   0.07
  </td>
  <td class="text_view_data">
   0.09
  </td>
  <td class="text_view_data">
   0.09
  </td>
  <td class="text_view_data">
   0.11
  </td>
  <td class="text_view_data">
   0.18
  </td>
  <td class="text_view_data">
   0.42
  </td>
  <td class="text_view_data">
   0.74
  </td>
  <td class="text_view_data">
   1.05
  </td>
  <td class="text_view_data">
   1.61
  </td>
  <td class="text_view_data">
   1.80
  </td>
 </tr>
 <tr class="oddrow">
  <td class="text_view_data" scope="row">
   01/27/21
  </td>
  <td class="text_view_data">
   0.05
  </td>
  <td class="text_view_data">
   0.06
  </td>
  <td class="text_view_data">
   0.08
  </td>
  <td class="text_view_data">
   0.09
  </td>
  <td class="text_view_data">
   0.09
  </td>
  <td class="text_view_data">
   0.12
  </td>
  <td class="text_view_data">
   0.18
  </td>
  <td class="text_view_data">
   0.41
  </td>
  <td class="text_view_data">
   0.72
  </td>
  <td class="text_view_data">
   1.04
  </td>
  <td class="text_view_data">
   1.60
  </td>
  <td class="text_view_data">
   1.79
  </td>
 </tr>
 <tr class="evenrow">
  <td class="text_view_data" scope="row">
   01/28/21
  </td>
  <td class="text_view_data">
   0.05
  </td>
  <td class="text_view_data">
   0.06
  </td>
  <td class="text_view_data">
   0.07
  </td>
  <td class="text_view_data">
   0.08
  </td>
  <td class="text_view_data">
   0.08
  </td>
  <td class="text_view_data">
   0.12
  </td>
  <td class="text_view_data">
   0.18
  </td>
  <td class="text_view_data">
   0.42
  </td>
  <td class="text_view_data">
   0.75
  </td>
  <td class="text_view_data">
   1.07
  </td>
  <td class="text_view_data">
   1.63
  </td>
  <td class="text_view_data">
   1.81
  </td>
 </tr>
 <tr class="oddrow">
  <td class="text_view_data" scope="row">
   01/29/21
  </td>
  <td class="text_view_data">
   0.07
  </td>
  <td class="text_view_data">
   0.07
  </td>
  <td class="text_view_data">
   0.06
  </td>
  <td class="text_view_data">
   0.07
  </td>
  <td class="text_view_data">
   0.10
  </td>
  <td class="text_view_data">
   0.11
  </td>
  <td class="text_view_data">
   0.19
  </td>
  <td class="text_view_data">
   0.45
  </td>
  <td class="text_view_data">
   0.79
  </td>
  <td class="text_view_data">
   1.11
  </td>
  <td class="text_view_data">
   1.68
  </td>
  <td class="text_view_data">
   1.87
  </td>
 </tr>
 <tr class="evenrow">
  <td class="text_view_data" scope="row">
   02/01/21
  </td>
  <td class="text_view_data">
   0.06
  </td>
  <td class="text_view_data">
   0.07
  </td>
  <td class="text_view_data">
   0.07
  </td>
  <td class="text_view_data">
   0.08
  </td>
  <td class="text_view_data">
   0.08
  </td>
  <td class="text_view_data">
   0.11
  </td>
  <td class="text_view_data">
   0.17
  </td>
  <td class="text_view_data">
   0.42
  </td>
  <td class="text_view_data">
   0.76
  </td>
  <td class="text_view_data">
   1.09
  </td>
  <td class="text_view_data">
   1.66
  </td>
  <td class="text_view_data">
   1.84
  </td>
 </tr>
 <tr class="oddrow">
  <td class="text_view_data" scope="row">
   02/02/21
  </td>
  <td class="text_view_data">
   0.04
  </td>
  <td class="text_view_data">
   0.05
  </td>
  <td class="text_view_data">
   0.07
  </td>
  <td class="text_view_data">
   0.08
  </td>
  <td class="text_view_data">
   0.08
  </td>
  <td class="text_view_data">
   0.11
  </td>
  <td class="text_view_data">
   0.18
  </td>
  <td class="text_view_data">
   0.45
  </td>
  <td class="text_view_data">
   0.79
  </td>
  <td class="text_view_data">
   1.12
  </td>
  <td class="text_view_data">
   1.69
  </td>
  <td class="text_view_data">
   1.87
  </td>
 </tr>
 <tr class="evenrow">
  <td class="text_view_data" scope="row">
   02/03/21
  </td>
  <td class="text_view_data">
   0.03
  </td>
  <td class="text_view_data">
   0.04
  </td>
  <td class="text_view_data">
   0.04
  </td>
  <td class="text_view_data">
   0.06
  </td>
  <td class="text_view_data">
   0.08
  </td>
  <td class="text_view_data">
   0.11
  </td>
  <td class="text_view_data">
   0.19
  </td>
  <td class="text_view_data">
   0.46
  </td>
  <td class="text_view_data">
   0.81
  </td>
  <td class="text_view_data">
   1.15
  </td>
  <td class="text_view_data">
   1.73
  </td>
  <td class="text_view_data">
   1.92
  </td>
 </tr>
 <tr class="oddrow">
  <td class="text_view_data" scope="row">
   02/04/21
  </td>
  <td class="text_view_data">
   0.03
  </td>
  <td class="text_view_data">
   0.04
  </td>
  <td class="text_view_data">
   0.04
  </td>
  <td class="text_view_data">
   0.06
  </td>
  <td class="text_view_data">
   0.07
  </td>
  <td class="text_view_data">
   0.11
  </td>
  <td class="text_view_data">
   0.18
  </td>
  <td class="text_view_data">
   0.46
  </td>
  <td class="text_view_data">
   0.81
  </td>
  <td class="text_view_data">
   1.15
  </td>
  <td class="text_view_data">
   1.75
  </td>
  <td class="text_view_data">
   1.93
  </td>
 </tr>
 <tr class="evenrow">
  <td class="text_view_data" scope="row">
   02/05/21
  </td>
  <td class="text_view_data">
   0.02
  </td>
  <td class="text_view_data">
   0.03
  </td>
  <td class="text_view_data">
   0.03
  </td>
  <td class="text_view_data">
   0.05
  </td>
  <td class="text_view_data">
   0.06
  </td>
  <td class="text_view_data">
   0.09
  </td>
  <td class="text_view_data">
   0.19
  </td>
  <td class="text_view_data">
   0.47
  </td>
  <td class="text_view_data">
   0.83
  </td>
  <td class="text_view_data">
   1.19
  </td>
  <td class="text_view_data">
   1.79
  </td>
  <td class="text_view_data">
   1.97
  </td>
 </tr>
 <tr class="oddrow">
  <td class="text_view_data" scope="row">
   02/08/21
  </td>
  <td class="text_view_data">
   0.04
  </td>
  <td class="text_view_data">
   0.03
  </td>
  <td class="text_view_data">
   0.05
  </td>
  <td class="text_view_data">
   0.05
  </td>
  <td class="text_view_data">
   0.07
  </td>
  <td class="text_view_data">
   0.11
  </td>
  <td class="text_view_data">
   0.20
  </td>
  <td class="text_view_data">
   0.48
  </td>
  <td class="text_view_data">
   0.83
  </td>
  <td class="text_view_data">
   1.19
  </td>
  <td class="text_view_data">
   1.78
  </td>
  <td class="text_view_data">
   1.96
  </td>
 </tr>
 <tr class="evenrow">
  <td class="text_view_data" scope="row">
   02/09/21
  </td>
  <td class="text_view_data">
   0.04
  </td>
  <td class="text_view_data">
   0.04
  </td>
  <td class="text_view_data">
   0.04
  </td>
  <td class="text_view_data">
   0.06
  </td>
  <td class="text_view_data">
   0.07
  </td>
  <td class="text_view_data">
   0.11
  </td>
  <td class="text_view_data">
   0.19
  </td>
  <td class="text_view_data">
   0.48
  </td>
  <td class="text_view_data">
   0.83
  </td>
  <td class="text_view_data">
   1.18
  </td>
  <td class="text_view_data">
   1.78
  </td>
  <td class="text_view_data">
   1.95
  </td>
 </tr>
 <tr class="oddrow">
  <td class="text_view_data" scope="row">
   02/10/21
  </td>
  <td class="text_view_data">
   0.05
  </td>
  <td class="text_view_data">
   0.04
  </td>
  <td class="text_view_data">
   0.05
  </td>
  <td class="text_view_data">
   0.06
  </td>
  <td class="text_view_data">
   0.07
  </td>
  <td class="text_view_data">
   0.11
  </td>
  <td class="text_view_data">
   0.19
  </td>
  <td class="text_view_data">
   0.46
  </td>
  <td class="text_view_data">
   0.80
  </td>
  <td class="text_view_data">
   1.15
  </td>
  <td class="text_view_data">
   1.75
  </td>
  <td class="text_view_data">
   1.92
  </td>
 </tr>
 <tr class="evenrow">
  <td class="text_view_data" scope="row">
   02/11/21
  </td>
  <td class="text_view_data">
   0.05
  </td>
  <td class="text_view_data">
   0.05
  </td>
  <td class="text_view_data">
   0.05
  </td>
  <td class="text_view_data">
   0.06
  </td>
  <td class="text_view_data">
   0.07
  </td>
  <td class="text_view_data">
   0.11
  </td>
  <td class="text_view_data">
   0.19
  </td>
  <td class="text_view_data">
   0.46
  </td>
  <td class="text_view_data">
   0.81
  </td>
  <td class="text_view_data">
   1.16
  </td>
  <td class="text_view_data">
   1.77
  </td>
  <td class="text_view_data">
   1.94
  </td>
 </tr>
 <tr class="oddrow">
  <td class="text_view_data" scope="row">
   02/12/21
  </td>
  <td class="text_view_data">
   0.03
  </td>
  <td class="text_view_data">
   0.04
  </td>
  <td class="text_view_data">
   0.04
  </td>
  <td class="text_view_data">
   0.05
  </td>
  <td class="text_view_data">
   0.06
  </td>
  <td class="text_view_data">
   0.11
  </td>
  <td class="text_view_data">
   0.20
  </td>
  <td class="text_view_data">
   0.50
  </td>
  <td class="text_view_data">
   0.85
  </td>
  <td class="text_view_data">
   1.20
  </td>
  <td class="text_view_data">
   1.83
  </td>
  <td class="text_view_data">
   2.01
  </td>
 </tr>
 <tr class="evenrow">
  <td class="text_view_data" scope="row">
   02/16/21
  </td>
  <td class="text_view_data">
   0.03
  </td>
  <td class="text_view_data">
   0.04
  </td>
  <td class="text_view_data">
   0.04
  </td>
  <td class="text_view_data">
   0.06
  </td>
  <td class="text_view_data">
   0.08
  </td>
  <td class="text_view_data">
   0.13
  </td>
  <td class="text_view_data">
   0.23
  </td>
  <td class="text_view_data">
   0.57
  </td>
  <td class="text_view_data">
   0.94
  </td>
  <td class="text_view_data">
   1.30
  </td>
  <td class="text_view_data">
   1.92
  </td>
  <td class="text_view_data">
   2.08
  </td>
 </tr>
 <tr class="oddrow">
  <td class="text_view_data" scope="row">
   02/17/21
  </td>
  <td class="text_view_data">
   0.03
  </td>
  <td class="text_view_data">
   0.04
  </td>
  <td class="text_view_data">
   0.04
  </td>
  <td class="text_view_data">
   0.06
  </td>
  <td class="text_view_data">
   0.07
  </td>
  <td class="text_view_data">
   0.11
  </td>
  <td class="text_view_data">
   0.21
  </td>
  <td class="text_view_data">
   0.57
  </td>
  <td class="text_view_data">
   0.94
  </td>
  <td class="text_view_data">
   1.29
  </td>
  <td class="text_view_data">
   1.92
  </td>
  <td class="text_view_data">
   2.06
  </td>
 </tr>
 <tr class="evenrow">
  <td class="text_view_data" scope="row">
   02/18/21
  </td>
  <td class="text_view_data">
   0.03
  </td>
  <td class="text_view_data">
   0.03
  </td>
  <td class="text_view_data">
   0.03
  </td>
  <td class="text_view_data">
   0.04
  </td>
  <td class="text_view_data">
   0.06
  </td>
  <td class="text_view_data">
   0.11
  </td>
  <td class="text_view_data">
   0.21
  </td>
  <td class="text_view_data">
   0.56
  </td>
  <td class="text_view_data">
   0.94
  </td>
  <td class="text_view_data">
   1.29
  </td>
  <td class="text_view_data">
   1.91
  </td>
  <td class="text_view_data">
   2.08
  </td>
 </tr>
 <tr class="oddrow">
  <td class="text_view_data" scope="row">
   02/19/21
  </td>
  <td class="text_view_data">
   0.03
  </td>
  <td class="text_view_data">
   0.03
  </td>
  <td class="text_view_data">
   0.04
  </td>
  <td class="text_view_data">
   0.06
  </td>
  <td class="text_view_data">
   0.07
  </td>
  <td class="text_view_data">
   0.11
  </td>
  <td class="text_view_data">
   0.22
  </td>
  <td class="text_view_data">
   0.59
  </td>
  <td class="text_view_data">
   0.98
  </td>
  <td class="text_view_data">
   1.34
  </td>
  <td class="text_view_data">
   1.98
  </td>
  <td class="text_view_data">
   2.14
  </td>
 </tr>
 <tr class="evenrow">
  <td class="text_view_data" scope="row">
   02/22/21
  </td>
  <td class="text_view_data">
   0.03
  </td>
  <td class="text_view_data">
   0.02
  </td>
  <td class="text_view_data">
   0.03
  </td>
  <td class="text_view_data">
   0.04
  </td>
  <td class="text_view_data">
   0.06
  </td>
  <td class="text_view_data">
   0.11
  </td>
  <td class="text_view_data">
   0.22
  </td>
  <td class="text_view_data">
   0.61
  </td>
  <td class="text_view_data">
   1.00
  </td>
  <td class="text_view_data">
   1.37
  </td>
  <td class="text_view_data">
   2.02
  </td>
  <td class="text_view_data">
   2.19
  </td>
 </tr>
 <tr class="oddrow">
  <td class="text_view_data" scope="row">
   02/23/21
  </td>
  <td class="text_view_data">
   0.03
  </td>
  <td class="text_view_data">
   0.02
  </td>
  <td class="text_view_data">
   0.04
  </td>
  <td class="text_view_data">
   0.05
  </td>
  <td class="text_view_data">
   0.08
  </td>
  <td class="text_view_data">
   0.11
  </td>
  <td class="text_view_data">
   0.22
  </td>
  <td class="text_view_data">
   0.59
  </td>
  <td class="text_view_data">
   1.00
  </td>
  <td class="text_view_data">
   1.37
  </td>
  <td class="text_view_data">
   2.03
  </td>
  <td class="text_view_data">
   2.21
  </td>
 </tr>
 <tr class="evenrow">
  <td class="text_view_data" scope="row">
   02/24/21
  </td>
  <td class="text_view_data">
   0.03
  </td>
  <td class="text_view_data">
   0.03
  </td>
  <td class="text_view_data">
   0.03
  </td>
  <td class="text_view_data">
   0.05
  </td>
  <td class="text_view_data">
   0.08
  </td>
  <td class="text_view_data">
   0.12
  </td>
  <td class="text_view_data">
   0.24
  </td>
  <td class="text_view_data">
   0.62
  </td>
  <td class="text_view_data">
   1.02
  </td>
  <td class="text_view_data">
   1.38
  </td>
  <td class="text_view_data">
   2.07
  </td>
  <td class="text_view_data">
   2.24
  </td>
 </tr>
 <tr class="oddrow">
  <td class="text_view_data" scope="row">
   02/25/21
  </td>
  <td class="text_view_data">
   0.04
  </td>
  <td class="text_view_data">
   0.03
  </td>
  <td class="text_view_data">
   0.04
  </td>
  <td class="text_view_data">
   0.06
  </td>
  <td class="text_view_data">
   0.09
  </td>
  <td class="text_view_data">
   0.17
  </td>
  <td class="text_view_data">
   0.34
  </td>
  <td class="text_view_data">
   0.81
  </td>
  <td class="text_view_data">
   1.23
  </td>
  <td class="text_view_data">
   1.54
  </td>
  <td class="text_view_data">
   2.25
  </td>
  <td class="text_view_data">
   2.33
  </td>
 </tr>
 <tr class="evenrow">
  <td class="text_view_data" scope="row">
   02/26/21
  </td>
  <td class="text_view_data">
   0.04
  </td>
  <td class="text_view_data">
   0.04
  </td>
  <td class="text_view_data">
   0.04
  </td>
  <td class="text_view_data">
   0.05
  </td>
  <td class="text_view_data">
   0.08
  </td>
  <td class="text_view_data">
   0.14
  </td>
  <td class="text_view_data">
   0.30
  </td>
  <td class="text_view_data">
   0.75
  </td>
  <td class="text_view_data">
   1.15
  </td>
  <td class="text_view_data">
   1.44
  </td>
  <td class="text_view_data">
   2.08
  </td>
  <td class="text_view_data">
   2.17
  </td>
 </tr>
 <tr class="oddrow">
  <td class="text_view_data" scope="row">
   03/01/21
  </td>
  <td class="text_view_data">
   0.03
  </td>
  <td class="text_view_data">
   0.03
  </td>
  <td class="text_view_data">
   0.05
  </td>
  <td class="text_view_data">
   0.07
  </td>
  <td class="text_view_data">
   0.08
  </td>
  <td class="text_view_data">
   0.13
  </td>
  <td class="text_view_data">
   0.27
  </td>
  <td class="text_view_data">
   0.71
  </td>
  <td class="text_view_data">
   1.12
  </td>
  <td class="text_view_data">
   1.45
  </td>
  <td class="text_view_data">
   2.11
  </td>
  <td class="text_view_data">
   2.23
  </td>
 </tr>
</table>

# find all table rows in ratesTable
rows = ratesTable.find_all('tr')
​
# extract the last row of ratesTable
lastRow = rows[len(rows) - 1]
​
# find all table data of the last row
lastRow = lastRow.find_all('td')
​
# store the data into a list "lastrow"
lastRow = [ele.text for ele in lastRow]
lastRow
['03/01/21',
 '0.03',
 '0.03',
 '0.05',
 '0.07',
 '0.08',
 '0.13',
 '0.27',
 '0.71',
 '1.12',
 '1.45',
 '2.11',
 '2.23']
# find all table headers in ratesTable
time = ratesTable.find_all('th')
​
# store headers into a list
time = [ele.text for ele in time]
​
# plot the latest yield curve
plt.scatter(time[1:], lastRow[1:])
plt.show()


